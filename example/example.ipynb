{
 "cells": [
  {
   "cell_type": "code",
   "execution_count": 1,
   "metadata": {},
   "outputs": [],
   "source": [
    "import sys\n",
    "sys.path.append(\"../\") \n",
    "\n",
    "from lazytracker import cached"
   ]
  },
  {
   "cell_type": "code",
   "execution_count": 2,
   "metadata": {},
   "outputs": [],
   "source": [
    "def test_function(data_source: str, output_file: str, append: str):\n",
    "    print(\"RUNNING FUNCTION!\")\n",
    "\n",
    "    with open(data_source + \"/test.txt\", 'r') as f:\n",
    "        text = f.read()\n",
    "\n",
    "    text += append\n",
    "\n",
    "    with open(output_file, 'w') as f:\n",
    "        f.write(text)\n",
    "\n",
    "    return text"
   ]
  },
  {
   "cell_type": "code",
   "execution_count": 3,
   "metadata": {},
   "outputs": [
    {
     "name": "stdout",
     "output_type": "stream",
     "text": [
      "RUNNING FUNCTION!\n"
     ]
    },
    {
     "data": {
      "text/plain": [
       "'hello world'"
      ]
     },
     "execution_count": 3,
     "metadata": {},
     "output_type": "execute_result"
    }
   ],
   "source": [
    "test_function(\"data\", \"test_output_noncached.txt\", \"world\")"
   ]
  },
  {
   "cell_type": "code",
   "execution_count": 4,
   "metadata": {},
   "outputs": [
    {
     "name": "stdout",
     "output_type": "stream",
     "text": [
      "RUNNING FUNCTION!\n"
     ]
    },
    {
     "data": {
      "text/plain": [
       "'hello world'"
      ]
     },
     "execution_count": 4,
     "metadata": {},
     "output_type": "execute_result"
    }
   ],
   "source": [
    "test_function(\"data\", \"test_output_noncached.txt\", \"world\")"
   ]
  },
  {
   "cell_type": "code",
   "execution_count": 5,
   "metadata": {},
   "outputs": [],
   "source": [
    "@cached(\n",
    "    input_dirs=[\"data_source\"],\n",
    "    output_files=[\"output_file\"]\n",
    ")\n",
    "def test_function_cached(data_source: str, output_file: str, append: str):\n",
    "    print(\"RUNNING FUNCTION!\")\n",
    "\n",
    "    with open(data_source + \"/test.txt\", 'r') as f:\n",
    "        text = f.read()\n",
    "\n",
    "    text += append\n",
    "\n",
    "    with open(output_file, 'w') as f:\n",
    "        f.write(text)\n",
    "\n",
    "    return text"
   ]
  },
  {
   "cell_type": "code",
   "execution_count": 11,
   "metadata": {},
   "outputs": [
    {
     "name": "stdout",
     "output_type": "stream",
     "text": [
      "RUNNING FUNCTION!\n"
     ]
    },
    {
     "data": {
      "text/plain": [
       "'hello world'"
      ]
     },
     "execution_count": 11,
     "metadata": {},
     "output_type": "execute_result"
    }
   ],
   "source": [
    "test_function_cached(\"data\", \"test_output_cached.txt\", \"world\")"
   ]
  },
  {
   "cell_type": "code",
   "execution_count": 12,
   "metadata": {},
   "outputs": [
    {
     "data": {
      "text/plain": [
       "'hello world'"
      ]
     },
     "execution_count": 12,
     "metadata": {},
     "output_type": "execute_result"
    }
   ],
   "source": [
    "test_function_cached(\"data\", \"test_output_cached.txt\", \"world\")"
   ]
  },
  {
   "cell_type": "code",
   "execution_count": 13,
   "metadata": {},
   "outputs": [
    {
     "name": "stdout",
     "output_type": "stream",
     "text": [
      "RUNNING FUNCTION!\n"
     ]
    },
    {
     "data": {
      "text/plain": [
       "'hello Santa!'"
      ]
     },
     "execution_count": 13,
     "metadata": {},
     "output_type": "execute_result"
    }
   ],
   "source": [
    "test_function_cached(\"data\", \"test_output_cached.txt\", \"Santa!\")"
   ]
  }
 ],
 "metadata": {
  "kernelspec": {
   "display_name": "Python 3.8.10 ('lazytracker-Gh6Heehg-py3.8')",
   "language": "python",
   "name": "python3"
  },
  "language_info": {
   "codemirror_mode": {
    "name": "ipython",
    "version": 3
   },
   "file_extension": ".py",
   "mimetype": "text/x-python",
   "name": "python",
   "nbconvert_exporter": "python",
   "pygments_lexer": "ipython3",
   "version": "3.8.10"
  },
  "orig_nbformat": 4,
  "vscode": {
   "interpreter": {
    "hash": "b07609e81a68b32a498d7ddb960c0dec10aa210f537fa7ae215c5a94bc75510f"
   }
  }
 },
 "nbformat": 4,
 "nbformat_minor": 2
}
